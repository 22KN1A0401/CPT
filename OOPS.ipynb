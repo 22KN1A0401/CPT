{
 "cells": [
  {
   "cell_type": "code",
   "execution_count": 1,
   "id": "d56d45d2-d045-469b-9323-1fea01348561",
   "metadata": {},
   "outputs": [
    {
     "name": "stdout",
     "output_type": "stream",
     "text": [
      "Even Mutable list: [32, 54]\n",
      "Odd Mutable list: [21, 43, 65]\n"
     ]
    }
   ],
   "source": [
    "'''Mutable type attributes\n",
    "code to illustrate multiple attributes by calling a class for its specifications\n",
    "for example n=21 32 43 54 65\n",
    "even list=[32,54]\n",
    "odd list=[21,43,65]'''\n",
    "class numbers:\n",
    "    even=[]\n",
    "    odd=[]\n",
    "    def __init__(self,n):\n",
    "        self.n=n\n",
    "        if n%2==0:\n",
    "            numbers.even.append(n)\n",
    "        else:\n",
    "             numbers.odd.append(n)\n",
    "n1=numbers(21)\n",
    "n2=numbers(32)\n",
    "n3=numbers(43)\n",
    "n4=numbers(54)\n",
    "n5=numbers(65)\n",
    "print(\"Even Mutable list:\",numbers.even)\n",
    "print(\"Odd Mutable list:\",numbers.odd)"
   ]
  },
  {
   "cell_type": "code",
   "execution_count": 19,
   "id": "72f3b736-ffd4-4d52-b12e-f5ba95957917",
   "metadata": {},
   "outputs": [
    {
     "name": "stdin",
     "output_type": "stream",
     "text": [
      "enter size: 2\n",
      "enter the input: 1 \n",
      "enter the input: 2 \n"
     ]
    },
    {
     "name": "stdout",
     "output_type": "stream",
     "text": [
      "Even Mutable list: [2]\n",
      "Odd Mutable list: [1]\n"
     ]
    }
   ],
   "source": [
    "'''Mutable type attributes\n",
    "code to illustrate multiple attributes by calling a class for its specifications\n",
    "for example n=21 32 43 54 65\n",
    "even list=[32,54]\n",
    "odd list=[21,43,65]'''\n",
    "class numbers:\n",
    "    even=[]\n",
    "    odd=[]\n",
    "    def __init__(self,n):\n",
    "        self.n=n\n",
    "        if n%2==0:\n",
    "            numbers.even.append(n)\n",
    "        else:\n",
    "             numbers.odd.append(n)\n",
    "size=int(input(\"enter size:\"))\n",
    "for i in range(size):\n",
    "    num=int(input(\"enter the input:\"))\n",
    "    n1=numbers(num)\n",
    "print(\"Even Mutable list:\",numbers.even)\n",
    "print(\"Odd Mutable list:\",numbers.odd)"
   ]
  },
  {
   "cell_type": "code",
   "execution_count": 35,
   "id": "a42e936f-9c02-474e-914e-818faf5095df",
   "metadata": {},
   "outputs": [
    {
     "name": "stdin",
     "output_type": "stream",
     "text": [
      "enter the input: 3\n"
     ]
    },
    {
     "name": "stdout",
     "output_type": "stream",
     "text": [
      "Given value : 3\n",
      "Given value : 27\n"
     ]
    }
   ],
   "source": [
    "def op(x):\n",
    "    return x**3\n",
    "\n",
    "class abc():\n",
    "    def __init__(self,val):\n",
    "        self.val=val\n",
    "    def display(self):\n",
    "        print(\"Given value :\",self.val)\n",
    "    def modify(self):\n",
    "        self.val=op(self.val)\n",
    "n=int(input(\"enter the input:\"))\n",
    "o=abc(n)\n",
    "o.display()\n",
    "o.modify()\n",
    "o.display()"
   ]
  },
  {
   "cell_type": "code",
   "execution_count": 72,
   "id": "41ac7ad3-8546-4671-8674-0edbcbfcf331",
   "metadata": {},
   "outputs": [
    {
     "name": "stdin",
     "output_type": "stream",
     "text": [
      "enter the number1: 5\n",
      "enter the number2: 6\n"
     ]
    },
    {
     "name": "stdout",
     "output_type": "stream",
     "text": [
      "object.__dict__ {'v1': 5, 'v2': 6}\n",
      "object.__doc__ None\n",
      "class.__name__ abc\n",
      "object.__module__ __main__\n",
      "class.__base__ <class 'object'>\n"
     ]
    }
   ],
   "source": [
    "class abc:\n",
    "    def __init__(self,v1,v2):\n",
    "        self.v1=v1\n",
    "        self.v2=v2\n",
    "    def display(self):\n",
    "        print(\"var1:\".self.v1)\n",
    "        print(\"var2:\".self.v2)\n",
    "n1=int(input(\"enter the number1:\"))\n",
    "n2=int(input(\"enter the number2:\"))\n",
    "o=abc(n1,n2)\n",
    "print(\"object.__dict__\",o.__dict__)\n",
    "print(\"object.__doc__\",o.__doc__)\n",
    "print(\"class.__name__\",abc.__name__)\n",
    "print(\"object.__module__\",o.__module__)\n",
    "print(\"class.__base__\",abc.__base__)\n"
   ]
  },
  {
   "cell_type": "code",
   "execution_count": 61,
   "id": "35c39171-f73d-4fa2-829c-656cda8bb20a",
   "metadata": {},
   "outputs": [
    {
     "name": "stdin",
     "output_type": "stream",
     "text": [
      "Enter a number:  6\n"
     ]
    },
    {
     "name": "stdout",
     "output_type": "stream",
     "text": [
      "6 is not a prime number.\n"
     ]
    }
   ],
   "source": [
    "def is_prime(n):\n",
    "    if n <= 1:\n",
    "        return False\n",
    "    if n == 2:\n",
    "        return True\n",
    "    if n % 2 == 0:\n",
    "        return False\n",
    "    for i in range(3, n, 2):  # check only odd numbers\n",
    "        if n % i == 0:\n",
    "            return False\n",
    "    return True\n",
    "\n",
    "num = int(input(\"Enter a number: \"))\n",
    "if is_prime(num):\n",
    "    print(f\"{num} is a prime number.\")\n",
    "else:\n",
    "    print(f\"{num} is not a prime number.\")\n"
   ]
  },
  {
   "cell_type": "code",
   "execution_count": 91,
   "id": "5644010c-a498-4274-9723-579be460e4db",
   "metadata": {},
   "outputs": [
    {
     "name": "stdout",
     "output_type": "stream",
     "text": [
      "<class 'type'>\n",
      "1704\n",
      "48\n",
      "28\n"
     ]
    }
   ],
   "source": [
    "'''code to view the memory information in a class which gives the typr of the class,size of the class object`and size of the instance\n",
    "constraints: use package sys for sizeof\n",
    "given value of num=10\n",
    "'''\n",
    "import sys\n",
    "class A:\n",
    "    n=10\n",
    "    def __init__(self,num):\n",
    "        self.num=num\n",
    "\n",
    "obj=A(n)\n",
    "\n",
    "print(type(A))\n",
    "print(sys.getsizeof(A))\n",
    "print(sys.getsizeof(obj))\n",
    "print(sys.getsizeof(n))"
   ]
  },
  {
   "cell_type": "code",
   "execution_count": 95,
   "id": "1c0ee7ca-b1e6-480b-adf0-ac9c5a18b6ef",
   "metadata": {},
   "outputs": [
    {
     "name": "stdin",
     "output_type": "stream",
     "text": [
      "Enter a sentence:  bhavana is keep smiling inthe calss\n"
     ]
    },
    {
     "name": "stdout",
     "output_type": "stream",
     "text": [
      "Emotion not detected or neutral.\n"
     ]
    }
   ],
   "source": [
    "def detect_emotion(sentence):\n",
    "    sentence = sentence.lower()\n",
    "\n",
    "    emotions = {\n",
    "        \"happy\": [\"happy\", \"joy\", \"glad\", \"excited\", \"pleased\", \"cheerful\", \"delighted\", \"content\"],\n",
    "        \"sad\": [\"sad\", \"unhappy\", \"depressed\", \"down\", \"upset\", \"miserable\", \"gloomy\", \"cry\"],\n",
    "        \"angry\": [\"angry\", \"mad\", \"furious\", \"irritated\", \"annoyed\", \"frustrated\", \"rage\", \"hate\"],\n",
    "        \"fear\": [\"scared\", \"fear\", \"afraid\", \"terrified\", \"nervous\", \"anxious\", \"worried\", \"panic\"]\n",
    "    }\n",
    "\n",
    "    for emotion, keywords in emotions.items():\n",
    "        for word in keywords:\n",
    "            if word in sentence:\n",
    "                return f\"The detected emotion is: {emotion.capitalize()}\"\n",
    "\n",
    "    return \"Emotion not detected or neutral.\"\n",
    "\n",
    "# Example usage\n",
    "user_input = input(\"Enter a sentence: \")\n",
    "print(detect_emotion(user_input))\n"
   ]
  },
  {
   "cell_type": "code",
   "execution_count": null,
   "id": "a5e8dfc5-0853-43a4-9a6a-52bfcb0ea388",
   "metadata": {},
   "outputs": [],
   "source": [
    "from transformers import pipeline\n",
    "\n",
    "# Initialize summarizer pipeline (this will download the model the first time you run it)\n",
    "summarizer = pipeline(\"summarization\")\n",
    "\n",
    "def detect_emotion(sentence):\n",
    "    sentence = sentence.lower()\n",
    "\n",
    "    emotions = {\n",
    "        \"happy\": [\"happy\", \"joy\", \"glad\", \"excited\", \"pleased\", \"cheerful\", \"delighted\", \"content\"],\n",
    "        \"sad\": [\"sad\", \"unhappy\", \"depressed\", \"down\", \"upset\", \"miserable\", \"gloomy\", \"cry\"],\n",
    "        \"angry\": [\"angry\", \"mad\", \"furious\", \"irritated\", \"annoyed\", \"frustrated\", \"rage\", \"hate\"],\n",
    "        \"fear\": [\"scared\", \"fear\", \"afraid\", \"terrified\", \"nervous\", \"anxious\", \"worried\", \"panic\"]\n",
    "    }\n",
    "\n",
    "    for emotion, keywords in emotions.items():\n",
    "        for word in keywords:\n",
    "            if word in sentence:\n",
    "                return emotion.capitalize()\n",
    "\n",
    "    return \"Neutral\"\n",
    "\n",
    "def summarize_and_detect_emotion(text):\n",
    "    # Summarize the text into a single sentence (max_length can be adjusted)\n",
    "    summary = summarizer(text, max_length=50, min_length=10, do_sample=False)[0]['summary_text']\n",
    "    \n",
    "    # Detect emotion in the summarized text\n",
    "    emotion = detect_emotion(summary)\n",
    "    \n",
    "    return summary, emotion\n",
    "\n",
    "# Example usage\n",
    "if __name__ == \"__main__\":\n",
    "    news_text = input(\"Enter the news text: \")\n",
    "    summary, emotion = summarize_and_detect_emotion(news_text)\n",
    "    \n",
    "    print(\"\\nSummary:\")\n",
    "    print(summary)\n",
    "    print(\"\\nDetected Emotion:\")\n",
    "    print(emotion)\n",
    "\n"
   ]
  },
  {
   "cell_type": "code",
   "execution_count": 186,
   "id": "184d2526-81f1-4c2a-90c7-27fc6ad1eb94",
   "metadata": {},
   "outputs": [
    {
     "name": "stdin",
     "output_type": "stream",
     "text": [
      "enter the pin: 1234\n",
      "enter the amount: 5200\n"
     ]
    },
    {
     "name": "stdout",
     "output_type": "stream",
     "text": [
      " Balance is insufficient...\n",
      "Exit....\n"
     ]
    }
   ],
   "source": [
    "'''create a class called ATM and check the pin with the user 1234\n",
    "define a constructor or function to withdraw 2000/- balance amount from account 5000/-\n",
    "if the amount is over the balance exit and check the pin for accessing the account'''\n",
    "class atm:\n",
    "    total=5000\n",
    "    def __init__(self):\n",
    "        self.pin=1234\n",
    "        self.total=5000\n",
    "    def pinkey(self):\n",
    "        pin=int(input(\"enter the pin:\"))\n",
    "        if pin==self.pin:\n",
    "            print(\"Access Granted....\")\n",
    "            amount=int(input(\"enter the amount:\"))\n",
    "            if amount>0 and amount<5000:\n",
    "                self.total-=amount\n",
    "                print(\"Balance is \",self.total)\n",
    "            else:\n",
    "                print(\" Balance is insufficient...\")\n",
    "                print(\"Exit....\")\n",
    "        else:\n",
    "            print(\" Enter the correct pin\")\n",
    "            print(\" Exittt....\")\n",
    "\n",
    "\n",
    "\n",
    "obj=atm()\n",
    "obj.pinkey()\n"
   ]
  },
  {
   "cell_type": "code",
   "execution_count": null,
   "id": "17917892-6b81-48f0-bba7-3a8f2d06f9ad",
   "metadata": {},
   "outputs": [],
   "source": []
  }
 ],
 "metadata": {
  "kernelspec": {
   "display_name": "Python 3 (ipykernel)",
   "language": "python",
   "name": "python3"
  },
  "language_info": {
   "codemirror_mode": {
    "name": "ipython",
    "version": 3
   },
   "file_extension": ".py",
   "mimetype": "text/x-python",
   "name": "python",
   "nbconvert_exporter": "python",
   "pygments_lexer": "ipython3",
   "version": "3.12.7"
  }
 },
 "nbformat": 4,
 "nbformat_minor": 5
}
